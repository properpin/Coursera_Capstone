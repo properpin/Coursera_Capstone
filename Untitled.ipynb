{
 "cells": [
  {
   "cell_type": "code",
   "execution_count": 2,
   "metadata": {},
   "outputs": [
    {
     "name": "stdout",
     "output_type": "stream",
     "text": [
      "< 破處那件小事 >\n",
      "提爾史威格TilSchweiger\n",
      "海克瑪卡琪HeikeMakatsch\n",
      "< 謎宮 >\n",
      "達斯汀霍夫曼DustinHoffman\n",
      "托尼瑟維洛ToniServillo\n",
      "< 聖誕殺戮日 >\n",
      "波多野貴文\n",
      "佐藤浩市KohichiSatoh\n",
      "西島秀俊HidetoshiNishijima\n",
      "石田百合子YurikoIshida\n",
      "廣瀨愛麗絲HiroseAlice\n",
      "< 迷失安狄 >\n",
      "< 末世戰疫：鳴鳥檔案 >\n",
      "< 妄想代理人：後篇 >\n",
      "今敏SatoshiKon\n",
      "< 舊愛靈靈妻 >\n",
      "愛德華霍爾EdwardHall\n",
      "茱蒂丹契JudiDench\n",
      "萊斯莉曼恩LeslieMann\n",
      "丹史蒂文斯DanStevens\n",
      "艾拉費雪IslaFisher\n",
      "< 媽呀！我餓了 >\n",
      "< 凸槌大臨演 >\n",
      "海納勞特巴赫HeinerLauterbach\n",
      "< 少女墮落日記 >\n",
      "< 俘虜 >\n",
      "大島渚\n",
      "大衛鮑伊DavidBowie\n",
      "坂本龍一RyuichiSakamoto\n",
      "北野武TakeshiKitano\n",
      "< 少年阿堯 >\n",
      "陳以文\n",
      "< 千年女優4K數位修復版 >\n",
      "今敏SatoshiKon\n",
      "< 異種獵殺 >\n",
      "布魯斯威利BruceWillis\n",
      "湯瑪斯傑恩ThomasJane\n",
      "瑞秋妮可絲RachelNichols\n",
      "< 最美麗的歲月 >\n",
      "蓋布瑞穆契諾GabrieleMuccino\n",
      "皮耶法蘭西斯柯法...PierfrancescoFavino\n",
      "克勞迪奧桑塔馬利...ClaudioSantamaria\n",
      "金羅西史都華KimRossiStuart\n",
      "< 一步一步的愛 >\n",
      "飯塚健KenIizuka\n",
      "山田孝之TakayukiYamada\n",
      "廣末涼子RyokoHirosue\n",
      "伊藤沙莉ItohSairi\n",
      "川榮李奈\n",
      "國村隼JunKunimura\n"
     ]
    }
   ],
   "source": [
    "import requests\n",
    "from bs4 import BeautifulSoup\n",
    "\n",
    "url = 'https://movies.yahoo.com.tw'\n",
    "re = requests.get(url)\n",
    "soup = BeautifulSoup(re.text, 'html.parser')\n",
    "for movie in soup.findAll('div', {'class': 'movielist_info'}):\n",
    "    print('<', movie.a.text, '>')\n",
    "    url2 = movie.a['href']\n",
    "    re2 = requests.get(url2)\n",
    "    soup2 = BeautifulSoup(re2.text, 'html.parser')\n",
    "    for name in soup2.findAll('div', {'class': 'actor_inner'}):\n",
    "        name = name.text.replace(' ', '').replace('\\n', '')\n",
    "        print(name)\n"
   ]
  },
  {
   "cell_type": "code",
   "execution_count": null,
   "metadata": {},
   "outputs": [],
   "source": []
  }
 ],
 "metadata": {
  "kernelspec": {
   "display_name": "Python 3",
   "language": "python",
   "name": "python3"
  },
  "language_info": {
   "codemirror_mode": {
    "name": "ipython",
    "version": 3
   },
   "file_extension": ".py",
   "mimetype": "text/x-python",
   "name": "python",
   "nbconvert_exporter": "python",
   "pygments_lexer": "ipython3",
   "version": "3.7.2"
  }
 },
 "nbformat": 4,
 "nbformat_minor": 2
}
